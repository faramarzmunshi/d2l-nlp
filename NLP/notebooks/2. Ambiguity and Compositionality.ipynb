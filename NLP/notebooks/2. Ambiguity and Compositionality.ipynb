{
 "cells": [
  {
   "cell_type": "markdown",
   "metadata": {},
   "source": [
    "## Setup for this and future notebooks\n",
    "\n",
    "Let's first start by setting up our environment so we can use the textual corpora from Project Gutenberg! Because Python 3 removed the berkeley-db4 package from native python, we have to reinstall it using homebrew. This also applies to the gzip package that made unzipping large files using python easier. If you don't have homebrew or you are not using a Mac, you can use \"apt-get\" on Linux OS. "
   ]
  },
  {
   "cell_type": "code",
   "execution_count": null,
   "metadata": {
    "scrolled": true
   },
   "outputs": [],
   "source": [
    "!brew install berkeley-db4\n",
    "!brew install zlib\n",
    "!pip3 install gutenberg"
   ]
  },
  {
   "cell_type": "markdown",
   "metadata": {},
   "source": [
    "Now that we have the required packages, we can play a bit with the Gutenberg corpora and take a look at some core concepts presented in NLP."
   ]
  },
  {
   "cell_type": "code",
   "execution_count": 5,
   "metadata": {},
   "outputs": [
    {
     "name": "stdout",
     "output_type": "stream",
     "text": [
      " I see him\n",
      "  now. He was ever dusting his old lexicons and grammars, with a queer\n",
      "  handkerchief, mockingly embellished with all the gay flags of all the\n",
      "  known nations of the world. He loved to dust his old grammars; it\n",
      "  somehow mildly reminded him of his mortality.\n",
      "\n",
      "  “While you take in hand to school others, and to teach them by what\n",
      "  name a whale-fish is to be called in our tongue, leaving out, through\n",
      "  ignorance, the letter H, which almost alone maketh up the\n",
      "  signification of the word, you deliver that which is not true.”\n",
      "  —_Hackluyt._\n",
      "\n",
      "  “WHALE. * * * Sw. and Dan. _hval_. This animal is named from\n",
      "  roundness or rolling; for in Dan. _hvalt_ is arched or vaulted.”\n",
      "  —_Webster’s Dictionary._\n",
      "\n",
      "  “WHALE. * * * It is more immediately from the Dut. and Ger. _Wallen_;\n",
      "  A.S. _Walw-ian_, to roll, to wallow.” —_Richardson’s Dictionary._\n",
      "\n",
      "\n",
      "  חו,                 _Hebrew_.\n",
      "  ϰητος,              _Greek_.\n",
      "  CETUS,              _Latin_.\n",
      "  WHŒL,               _Anglo-Saxon_.\n",
      "  HVALT,              _Danish_.\n",
      "  WAL,                _Dutch_.\n",
      "  HWAL,               _Swedish_.\n",
      "  WHALE,              _Icelandic_.\n",
      "  WHALE,              _English_.\n",
      "  BALLENA,            _Spanish_.\n",
      "  PEKEE-NUEE-NUEE,    _Fegee_.\n",
      "  PEHEE-NUEE-NUEE,    _Erromangoan_.\n",
      "\n",
      "\n",
      "\n",
      "  EXTRACTS. (Supplied by a Sub-Sub-Librarian).\n",
      "\n",
      "\n",
      "\n",
      "  It will be seen that this mere painstaking burrower and grub-worm of\n",
      "  a poor devil of a Sub-Sub appears to have gone through the long\n",
      "  Vaticans and street-stalls of the earth, picking up whatever random\n",
      "  allusions to whales he could anyways find in any book whatsoever,\n",
      "  sacred or profane. Therefore you must not, in every case at least,\n",
      "  take the higgledy-piggledy whale statements, however authentic, in\n",
      "  these extracts, for veritable gospel cetology. Far from it. As\n",
      "  touching the ancient authors generally, as well as the poets here\n",
      "  appearing, these extracts are solely valuable or entertaining, as\n",
      "  affording a glancing bird’s eye view of what has been promiscuously\n",
      "  said, thought, fancied, and sung of Leviathan, by many nations and\n",
      "  generations, including our own.\n",
      "\n",
      "  So fare thee well, poor devil of a Sub-Sub, whose commentator I am.\n",
      "  Thou belongest to that hopeless, sallow tribe which no wine of this\n",
      "  world will ever warm; and for whom even Pale Sherry would be too\n",
      "  rosy-strong; but with whom one sometimes loves to sit, and feel\n",
      "  poor-devilish, too; and grow convivial upon tears; and say to them\n",
      "  bluntly, with full eyes and empty glasses, and in not altogether\n",
      "  unpleasant sadness—Give it up, Sub-Subs! For by how much the more\n",
      "  pains ye take to please the world, by so much the more shall ye for\n",
      "  ever go thankless! Would that I could clear out Hampton Court and the\n",
      "  Tuileries for ye! But gulp down your tears and hie aloft to the\n",
      "  royal-mast with your hearts; for your friends who have gone before\n",
      "  are clearing out the seven-storied heavens, and making refugees of\n",
      "  long-pampered Gabriel, Michael, and Raphael, against your coming.\n",
      "  Here ye strike but splintered hearts together—there, ye shall strike\n",
      "  unsplinterable glasses!\n",
      "\n",
      "EXTRACTS.\n",
      "\n",
      "  “And God created great whales.” —_Genesis_.\n",
      "\n",
      "  “Leviathan maketh a path to shine after him; One would think the deep\n",
      "  to be hoary.” —_Job_.\n",
      "\n",
      "  “Now the Lord had prepared a great fish to swallow up Jonah.”\n",
      "  —_Jonah_.\n",
      "\n",
      "  “There go the ships; there is that Leviathan whom thou hast made to\n",
      "  play therein.” —_Psalms_.\n",
      "\n",
      "  “In that day, the Lord with his sore, and great, and strong sword,\n",
      "  shall punish Leviathan the piercing serpent, even Leviathan that\n",
      "  crooked serpent; and he shall slay the dragon that is in the sea.”\n",
      "  —_Isaiah_.\n",
      "\n",
      "  “And what thing soever besides cometh within the chaos of this\n",
      "  monster’s mouth, be it beast, boat, or stone, down it goes all\n",
      "  incontinently that foul great swallow of his, and perisheth in the\n",
      "  bottomless gulf of his paunch.” —_Holland’s Plutarch’s Morals_.\n",
      "\n",
      "  “The Indian Sea breedeth the most and the biggest fishes that are:\n",
      "  among which the Whales and Whirlpooles called Balaene, take up as\n",
      "  much in length as four acres or arpens of land.” —_Holland’s Pliny_.\n",
      "\n",
      "  “Scarcely had we proceeded two days on the sea, when about sunrise a\n",
      "  great many Whales and other monsters of the sea, appeared. Among the\n",
      "  former, one was of a most monstrous size.... This came towards us,\n",
      "  open-mouthed, raising the waves on all sides, and beating the sea\n",
      "  before him into a foam.” —_Tooke’s Lucian_. “_The True History_.”\n",
      "\n",
      "\n",
      "\n",
      "\n",
      "  “He visited this country also with a view of catching horse-whales,\n",
      "  which had bones of very great value for their teeth, of which he\n",
      "  brought some to the king.... The best whales were catched in his own\n",
      "  country, of which some were forty-eight, some fifty yards long. He\n",
      "  said that he was one of six who had killed sixty in two days.”\n",
      "  —_Other or Other’s verbal narrative taken down from his mouth by King\n",
      "  Alfred, A.D._ 890.\n",
      "\n",
      "  “And whereas all the other things, whether beast or vessel, that\n",
      "  enter into the dreadful gulf of this\n"
     ]
    }
   ],
   "source": [
    "from gutenberg.acquire import load_etext\n",
    "from gutenberg.cleanup import strip_headers\n",
    "\n",
    "text = strip_headers(load_etext(2701)).strip()\n",
    "print(text[5002:10000])"
   ]
  },
  {
   "cell_type": "markdown",
   "metadata": {},
   "source": [
    "## Ambiguity\n",
    "\n",
    "To properly understand what these mean to a practitioner of NLP, we have to fundamentally understand what the goal of NLP actually is and how we approach problems in NLP in general. These challenges require good design techniques; both modular approaches to break a problem up at appropriate points into smaller challenges, and the more formal models which reflect aspects of the structure of language. These problems are different and slightly more challenging than other typical Machine Learning problems because of two main facets of language: ambiguity and compositionality.\n",
    "\n",
    "Ambiguity can be referred as the ability of having more than one meaning or being understood in more than one way. Natural languages are ambiguous, so computers are not able to understand language the way people do. Natural Language Processing (NLP) is concerned with the development of computational models of aspects of human language processing. Ambiguity can occur at various levels of NLP. Ambiguity could be Lexical (word-level), Syntactic (dealing with order of words), Semantic (dealing with meaning of words), Pragmatic (dealing with contextual meanings) etc. A quick example follows to explain this better."
   ]
  },
  {
   "cell_type": "markdown",
   "metadata": {},
   "source": [
    "The sentence \"You have the red light\" is ambiguous. Without knowing the context, the identity of the speaker or the speaker's intent, it is difficult to infer the meaning with certainty. For example, it could mean: * the space that belongs to you has red ambient lighting; * you are stopping at a red traffic signal; and you have to wait to continue driving; * you are not permitted to proceed in a non-driving context; * your body is cast in a red glow; or * you possess a light bulb that is tinted red."
   ]
  },
  {
   "cell_type": "markdown",
   "metadata": {},
   "source": [
    "Similarly, the sentence \"Greyson saw the man with glasses\" could mean that Greyson observed the man by using glasses, or it could mean that Greyson observed a man who was holding/wearing glasses (syntactic ambiguity). The meaning of the sentence depends on an understanding of the context and the speaker's intent. As defined in linguistics, a sentence is an abstract entity—-a string of words divorced from non-linguistic context--in contrast to an utterance, which is a concrete example of a speech act in a specific context. The more closely conscious subjects stick to common words, idioms, phrasings, and topics, the more easily others can surmise their meaning; simultaneously, the further they stray from common expressions and topics, the wider the variations in interpretations."
   ]
  },
  {
   "cell_type": "markdown",
   "metadata": {},
   "source": [
    "This suggests that sentences do not have an intrinsic meaning, that there is no meaning associated with a sentence or word, and that either can only represent an idea symbolically. \"The dog sat on the carpet\" is a sentence in English. If someone were to say to someone else, \"The dog sat on the carpet,\" the act is itself an utterance. This implies that a sentence, term, expression or word cannot symbolically represent a single true meaning; such meaning is underspecified (which dog sat on which carpet?) and consequently, is potentially ambiguous. By contrast, the meaning of an utterance can be inferred through knowledge of its context, or pragmatics, leveraging both its linguistic and non-linguistic contexts (which may or may not be sufficient to resolve ambiguity). You may factually know from previous conversations it's your neighbour's dog, or the carpet referred to is the Persian carpet you keep in your bedroom, or even that the dog didn't actually sit normally, because the neighbour's dog has a hip problem and causes him to lay more than sit, yet the closest word to describe what the dog did is to use sit. All of these are ambiguous from the sentence \"The dog sat on the carpet,\" and having a limited context can allow the sentence to become more and more ambiguous and answer less and less questions."
   ]
  },
  {
   "cell_type": "markdown",
   "metadata": {},
   "source": [
    "# Compositionality and the linguistic connection\n",
    "\n",
    "Compositionality is the other beast that presents itself as a basic roadblock in the field of NLP.\n",
    "\n",
    "The field of NLP used to be divided by methodologies and near-term goals. Logical approaches relied on techniques from proof theory and model-theoretic semantics, they have strong ties to linguistic semantics, and they are concerned primarily with inference, ambiguity, vagueness, and compositional interpretation of full syntactic parses. In contrast, the statistical approaches derived their tools from algorithms and optimization, and they tend to focus on word meanings and broad notions of semantic content.\n",
    "\n",
    "The two types of approaches share the long-term vision of achieving deep natural language understanding, but their day-to-day differences can make them seem unrelated and even incompatible. The distinction between logical and statistical approaches has and is continuing to rapidly disappear, with the development of models that can learn the conventional aspects of natural language meaning from corpora and databases. These models interpret rich linguistic representations in a compositional fashion, and they offer novel perspectives on foundational issues like ambiguity, inference, and grounding. The fundamental question for these approaches is what kinds of data and models are needed for effective learning. Addressing this question is a prerequisite for implementing robust systems for natural language understanding, and the answers can inform psychological models of language acquisition and language processing."
   ]
  },
  {
   "cell_type": "markdown",
   "metadata": {},
   "source": [
    "The leading players in the discussion are the aforementioned ambiguity, as well as compositionality. It is deeply united around the concepts of generalization, meaning, and structural complexity. Specifically, compositionality characterizes the recursive nature of the linguistic ability required to generalize to a creative capacity, and learning details the conditions under which such an ability can be acquired from data.\n",
    "\n",
    "In linguistics, semantic representations are generally logical forms: expressions in a fully specified, unambiguous artificial language. The grammar in tasks like parsing usually adopt such a view, defining semantic representations with a logical language that has constant symbols for numbers and relations and uses juxtaposition and bracketing to create complex expressions. In the literature, one encounters a variety of different formalisms — for example, lambda calculi (Carpenter 1997) or first-order fragments thereof (Bird et al. 2009), natural logics (MacCartney & Manning 2009; Moss 2009), diagrammatic languages (Kamp & Reyle 1993), programming languages (Blackburn & Bos 2005), robot controller languages (Matuszek et al. 2012b), and database query languages (Zelle & Mooney 1996). A given utterance might be consistent with multiple logical forms in our grammar, creating ambiguity."
   ]
  },
  {
   "cell_type": "markdown",
   "metadata": {},
   "source": [
    "Compositionality and learning are intimately related: Both concern the ability of a system (human or artificial) to generalize from a finite set of experiences to a creative capacity, and to come to grips with new inputs and experiences effectively. From this perspective, compositionality is a claim about the nature of this ability when it comes to linguistic interpretation, and learning theory offers a framework for characterizing the conditions under which a system can attain this ability in principle. Moreover, establishing the relationship between compositionality and learning provides a recipe for synthesis: the principle of compositionality guides researchers on specific model structures, and machine learning provides them with a set of methods for training such models in practice. More specifically, the claim of compositionality is that being a semantic interpreter for a language L amounts to mastering the syntax of L, the lexical meanings of L, and the modes of semantic combination for L."
   ]
  },
  {
   "cell_type": "code",
   "execution_count": null,
   "metadata": {},
   "outputs": [],
   "source": []
  },
  {
   "cell_type": "code",
   "execution_count": null,
   "metadata": {},
   "outputs": [],
   "source": []
  }
 ],
 "metadata": {
  "kernelspec": {
   "display_name": "Python 3",
   "language": "python",
   "name": "python3"
  },
  "language_info": {
   "codemirror_mode": {
    "name": "ipython",
    "version": 3
   },
   "file_extension": ".py",
   "mimetype": "text/x-python",
   "name": "python",
   "nbconvert_exporter": "python",
   "pygments_lexer": "ipython3",
   "version": "3.7.4"
  }
 },
 "nbformat": 4,
 "nbformat_minor": 2
}
